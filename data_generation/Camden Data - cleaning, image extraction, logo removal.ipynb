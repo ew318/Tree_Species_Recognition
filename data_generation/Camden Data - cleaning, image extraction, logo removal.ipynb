{
 "cells": [
  {
   "cell_type": "markdown",
   "metadata": {},
   "source": [
    "## Read, filter and clean Camden dataset"
   ]
  },
  {
   "cell_type": "code",
   "execution_count": null,
   "metadata": {},
   "outputs": [],
   "source": [
    "import os\n",
    "import pandas as pd\n",
    "import cv2\n",
    "from PIL import Image as PImage"
   ]
  },
  {
   "cell_type": "code",
   "execution_count": null,
   "metadata": {},
   "outputs": [],
   "source": [
    "camden_trees = '../Trees_In_Camden.csv'"
   ]
  },
  {
   "cell_type": "code",
   "execution_count": null,
   "metadata": {},
   "outputs": [],
   "source": [
    "df = pd.read_csv(camden_trees) "
   ]
  },
  {
   "cell_type": "markdown",
   "metadata": {},
   "source": [
    "#### Remove 'Unknown' or 'Vacant pit' tree sites from data"
   ]
  },
  {
   "cell_type": "code",
   "execution_count": null,
   "metadata": {},
   "outputs": [],
   "source": [
    "df = df[df.apply(lambda x: ('vacant' not in str(x['Common Name']).lower() and\n",
    "                            'unknown' not in str(x['Common Name']).lower() and\n",
    "                            'remove' not in str(x['Common Name']).lower() and\n",
    "                            x['Number Of Trees'] > 0), axis=1)]"
   ]
  },
  {
   "cell_type": "markdown",
   "metadata": {},
   "source": [
    "#### Remove trees with no location"
   ]
  },
  {
   "cell_type": "code",
   "execution_count": null,
   "metadata": {},
   "outputs": [],
   "source": [
    "df = df[~df['Location'].isnull()]"
   ]
  },
  {
   "cell_type": "markdown",
   "metadata": {},
   "source": [
    "#### Summary statistics of Species and Maturity"
   ]
  },
  {
   "cell_type": "code",
   "execution_count": null,
   "metadata": {},
   "outputs": [],
   "source": [
    "maturity_count = df.groupby('Maturity').count()[['Number Of Trees']].sort_values(\n",
    "    'Number Of Trees', axis=0, ascending=False, inplace=False, kind='quicksort',\n",
    "    na_position='last', ignore_index=False, key=None)\n",
    "maturity_count"
   ]
  },
  {
   "cell_type": "code",
   "execution_count": null,
   "metadata": {},
   "outputs": [],
   "source": [
    "common_count = df.groupby('Common Name').count()[['Number Of Trees']].sort_values(\n",
    "    'Number Of Trees', axis=0, ascending=False, inplace=False, kind='quicksort',\n",
    "    na_position='last', ignore_index=False, key=None)\n",
    "common_count[:15]"
   ]
  },
  {
   "cell_type": "code",
   "execution_count": null,
   "metadata": {},
   "outputs": [],
   "source": [
    "import matplotlib.pyplot as plt\n",
    "\n",
    "fig, ax = plt.subplots(figsize=(8, 6))\n",
    "common_count.hist(ax=ax, bins=120, bottom=0.1)\n",
    "ax.set_yscale('log')\n",
    "ax.set_xlabel('Number of species examples')\n",
    "ax.set_ylabel('Count of species')\n",
    "ax.set_title('Camden tree species distribution', fontweight='bold')"
   ]
  },
  {
   "cell_type": "code",
   "execution_count": null,
   "metadata": {},
   "outputs": [],
   "source": [
    "common_count.to_csv('species_count.csv')\n",
    "len(common_count[(common_count['Number Of Trees'] >= 50)])"
   ]
  },
  {
   "cell_type": "code",
   "execution_count": null,
   "metadata": {},
   "outputs": [],
   "source": [
    "# Only use species with 50 or more trees\n",
    "chosen_species = common_count[(common_count['Number Of Trees'] >= 50)]"
   ]
  },
  {
   "cell_type": "code",
   "execution_count": null,
   "metadata": {},
   "outputs": [],
   "source": [
    "final_df = df[df.apply(lambda x: x['Common Name'] in chosen_species.index, axis=1)]\n",
    "final_df.to_csv('camden_clean.csv')"
   ]
  },
  {
   "cell_type": "markdown",
   "metadata": {},
   "source": [
    "## Download image from Google for each tree in cleaned dataset"
   ]
  },
  {
   "cell_type": "code",
   "execution_count": null,
   "metadata": {},
   "outputs": [],
   "source": [
    "import os\n",
    "from os import path\n",
    "import urllib.request\n",
    "from time import sleep\n",
    "\n",
    "if not os.path.exists('../camden_images'):\n",
    "    os.makedirs('../camden_images')"
   ]
  },
  {
   "cell_type": "markdown",
   "metadata": {},
   "source": [
    "#### Set URL Parameters needed for retrieving Google Images"
   ]
  },
  {
   "cell_type": "code",
   "execution_count": null,
   "metadata": {},
   "outputs": [],
   "source": [
    "URL = 'https://maps.googleapis.com/maps/api/staticmap?zoom=20&size=200x200&maptype=satellite&center='\n",
    "API_KEY = os.getenv('GOOGLE_MAPS_API_KEY')"
   ]
  },
  {
   "cell_type": "code",
   "execution_count": null,
   "metadata": {},
   "outputs": [],
   "source": [
    "for index, row in final_df.iterrows():\n",
    "    \n",
    "    # Does folder exsit with species name? if not, create one\n",
    "    species_path = '../camden_images/' + row['Common Name']\n",
    "    if not os.path.exists(species_path):\n",
    "        os.makedirs(species_path)\n",
    "    \n",
    "    # Does image exist in folder with species name that contains the identifier above?\n",
    "    tree_image = species_path + '/' + 'tree_aerial_' + row['Identifier'] + '.png'\n",
    "    if not os.path.isfile(tree_image):\n",
    "        print('Now getting image for ' + row['Identifier'] + ' ' + row['Common Name'])\n",
    "        # If not, download from Google\n",
    "        centre = row['Location'].replace(\"(\" ,\"\").replace(\")\" ,\"\").replace(\" \", \"\")\n",
    "        google_url = URL + centre + API_KEY\n",
    "        urllib.request.urlretrieve(google_url, tree_image)\n",
    "        sleep(0.2)"
   ]
  },
  {
   "cell_type": "markdown",
   "metadata": {},
   "source": [
    "## Remove Logo"
   ]
  },
  {
   "cell_type": "code",
   "execution_count": null,
   "metadata": {},
   "outputs": [],
   "source": [
    "camden_path = '../camden_images/'\n",
    "img_paths = []\n",
    "for subdir, dirs, files in os.walk(camden_path):\n",
    "    for file in files:\n",
    "        path = subdir + '/' + file\n",
    "        if '.png' in path:\n",
    "            img_paths.append(path)"
   ]
  },
  {
   "cell_type": "code",
   "execution_count": null,
   "metadata": {},
   "outputs": [],
   "source": [
    "for img_path in img_paths:\n",
    "    img = PImage.open(img_path)\n",
    "    width, height = img.size \n",
    "  \n",
    "    # Setting the points for cropped image \n",
    "    left = 0\n",
    "    top = 0\n",
    "    right = 200\n",
    "    bottom = 175\n",
    "\n",
    "    # Cropped image of above dimension\n",
    "    img = img.crop((left, top, right, bottom))\n",
    "    img.save(img_path, 'png')"
   ]
  }
 ],
 "metadata": {
  "kernelspec": {
   "display_name": "Python 3",
   "language": "python",
   "name": "python3"
  },
  "language_info": {
   "codemirror_mode": {
    "name": "ipython",
    "version": 3
   },
   "file_extension": ".py",
   "mimetype": "text/x-python",
   "name": "python",
   "nbconvert_exporter": "python",
   "pygments_lexer": "ipython3",
   "version": "3.7.7"
  }
 },
 "nbformat": 4,
 "nbformat_minor": 4
}

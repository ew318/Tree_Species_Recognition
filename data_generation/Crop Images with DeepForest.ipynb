{
 "cells": [
  {
   "cell_type": "markdown",
   "metadata": {},
   "source": [
    "#### Purpose of this notebook is to crop the 200x200 images downloaded from Google static maps API using DeepForest. This will provide the CNN with images that only contain a tree, not peripheral scenery."
   ]
  },
  {
   "cell_type": "code",
   "execution_count": null,
   "metadata": {},
   "outputs": [],
   "source": [
    "from deepforest import deepforest"
   ]
  },
  {
   "cell_type": "code",
   "execution_count": null,
   "metadata": {},
   "outputs": [],
   "source": [
    "model = deepforest.deepforest()\n",
    "model.use_release()\n",
    "model.model.save(\"deepforest_release_20201009.h5\")"
   ]
  },
  {
   "cell_type": "code",
   "execution_count": null,
   "metadata": {},
   "outputs": [],
   "source": [
    "cwd = os.getcwd()"
   ]
  },
  {
   "cell_type": "code",
   "execution_count": null,
   "metadata": {},
   "outputs": [],
   "source": [
    "bounding_model = deepforest.deepforest(saved_model=cwd + \"/deepforest_release_20201009.h5\")"
   ]
  },
  {
   "cell_type": "code",
   "execution_count": null,
   "metadata": {},
   "outputs": [],
   "source": [
    "import os\n",
    "\n",
    "# Example bounding boxes for Alder tree species\n",
    "\n",
    "test_folder = cwd + '/camden_images/Alder - Common/'\n",
    "for subdir, dirs, files in os.walk(test_folder):\n",
    "    for file in files:\n",
    "        img_path = test_folder + file\n",
    "        print(file)\n",
    "        bounding_model.predict_image(image_path=img_path, show=True, return_plot = True)"
   ]
  }
 ],
 "metadata": {
  "kernelspec": {
   "display_name": "Python 3",
   "language": "python",
   "name": "python3"
  },
  "language_info": {
   "codemirror_mode": {
    "name": "ipython",
    "version": 3
   },
   "file_extension": ".py",
   "mimetype": "text/x-python",
   "name": "python",
   "nbconvert_exporter": "python",
   "pygments_lexer": "ipython3",
   "version": "3.7.7"
  }
 },
 "nbformat": 4,
 "nbformat_minor": 4
}
